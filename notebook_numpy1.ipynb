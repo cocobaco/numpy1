{
 "cells": [
  {
   "cell_type": "code",
   "execution_count": 28,
   "metadata": {},
   "outputs": [],
   "source": [
    "from math import radians\n",
    "import numpy as np\n",
    "import scipy"
   ]
  },
  {
   "cell_type": "code",
   "execution_count": 30,
   "metadata": {},
   "outputs": [
    {
     "name": "stdout",
     "output_type": "stream",
     "text": [
      "numpy: 1.14.2\n",
      "scipy: 1.0.1\n"
     ]
    }
   ],
   "source": [
    "print(f'numpy: {np.__version__}')\n",
    "#np.show_config()\n",
    "print(f'scipy: {scipy.__version__}')"
   ]
  },
  {
   "cell_type": "code",
   "execution_count": 18,
   "metadata": {},
   "outputs": [
    {
     "name": "stdout",
     "output_type": "stream",
     "text": [
      "row vector:\n",
      "[1 2 3]\n",
      "column vector:\n",
      "[[1]\n",
      " [2]\n",
      " [3]]\n",
      "[[1 2 3]\n",
      " [4 5 6]\n",
      " [7 8 9]]\n"
     ]
    }
   ],
   "source": [
    "# ----- numpy arrays --------------\n",
    "# Create a vector as a row\n",
    "print('row vector:')\n",
    "vector_row = np.array([1, 2, 3])\n",
    "print(vector_row)\n",
    "\n",
    "# Create a vector as a row\n",
    "print('column vector:')\n",
    "vector_column = np.array([[1], [2], [3]])\n",
    "print(vector_column)\n",
    "\n",
    "# create a matrix\n",
    "matrix = np.array([[1, 2, 3],\n",
    "                   [4, 5, 6],\n",
    "                   [7, 8, 9]])\n",
    "print(matrix)"
   ]
  },
  {
   "cell_type": "code",
   "execution_count": 4,
   "metadata": {},
   "outputs": [
    {
     "name": "stdout",
     "output_type": "stream",
     "text": [
      "distance = 50396.38215133626\n"
     ]
    }
   ],
   "source": [
    "#------- math ----------------\n",
    "r = 192500\n",
    "# travel distance from Moon over 15 rad\n",
    "dist = r*radians(15)\n",
    "print(\"distance = \" + str(dist))"
   ]
  },
  {
   "cell_type": "code",
   "execution_count": 5,
   "metadata": {},
   "outputs": [
    {
     "data": {
      "text/plain": [
       "array([0.17453293, 0.34906585, 0.52359878])"
      ]
     },
     "execution_count": 5,
     "metadata": {},
     "output_type": "execute_result"
    }
   ],
   "source": [
    "vector_row*radians(10)"
   ]
  },
  {
   "cell_type": "code",
   "execution_count": 6,
   "metadata": {},
   "outputs": [
    {
     "name": "stdout",
     "output_type": "stream",
     "text": [
      "a:\n",
      "[[ 0  1  2  3]\n",
      " [ 4  5  6  7]\n",
      " [ 8  9 10 11]]\n",
      "a.shape:  (3, 4)\n",
      "a.ndim:  2\n",
      "a.dtype.name:  int32\n",
      "a.itemsize:  4\n",
      "type(a):  <class 'numpy.ndarray'>\n",
      "tranpose(a):\n",
      "[[ 0  4  8]\n",
      " [ 1  5  9]\n",
      " [ 2  6 10]\n",
      " [ 3  7 11]]\n"
     ]
    }
   ],
   "source": [
    "# create range from 0 to 11\n",
    "a = np.arange(12).reshape(3,4)\n",
    "print(\"a:\")\n",
    "print(a)\n",
    "print(\"a.shape: \", str(a.shape))\n",
    "print(\"a.ndim: \", str(a.ndim))\n",
    "print(\"a.dtype.name: \", str(a.dtype.name))\n",
    "print(\"a.itemsize: \", str(a.itemsize))\n",
    "print(\"type(a): \", type(a))\n",
    "print('tranpose(a):')\n",
    "print(a.T)"
   ]
  },
  {
   "cell_type": "code",
   "execution_count": 31,
   "metadata": {},
   "outputs": [
    {
     "name": "stdout",
     "output_type": "stream",
     "text": [
      "b:\n",
      "[[1.5 2. ]\n",
      " [4.  5. ]]\n",
      "b.inverse (numpy):\n",
      "[[-10.   4.]\n",
      " [  8.  -3.]]\n",
      "b inverse (scipy):\n",
      "[[-10.   4.]\n",
      " [  8.  -3.]]\n",
      "det(b) (numpy):\n",
      "-0.5000000000000001\n",
      "det(b) (scipy):\n",
      "-0.5\n",
      "b**2\n",
      "[[ 2.25  4.  ]\n",
      " [16.   25.  ]]\n",
      "mean, variance, and stdev of b\n",
      "3.125 2.046875 1.4306903927824497\n"
     ]
    }
   ],
   "source": [
    "b = np.array([(1.5,2), (4,5)])\n",
    "print(\"b:\")\n",
    "print(b)\n",
    "\n",
    "# ---- matrix operations\n",
    "print('b.inverse (numpy):')\n",
    "print(np.linalg.inv(b))\n",
    "print('b inverse (scipy):')\n",
    "print(scipy.linalg.inv(b))\n",
    "# Return determinant of matrix\n",
    "print('det(b) (numpy):')\n",
    "print(np.linalg.det(b))\n",
    "print('det(b) (scipy):')\n",
    "print(scipy.linalg.det(b))\n",
    "\n",
    "print(\"b**2\")\n",
    "print(np.square(b))\n",
    "print('mean, variance, and stdev of b')\n",
    "print(np.mean(b), np.var(b), np.std(b))"
   ]
  },
  {
   "cell_type": "code",
   "execution_count": 8,
   "metadata": {},
   "outputs": [
    {
     "data": {
      "text/plain": [
       "array([[4.5, 3.2],\n",
       "       [5.3, 7.7]])"
      ]
     },
     "execution_count": 8,
     "metadata": {},
     "output_type": "execute_result"
    }
   ],
   "source": [
    "c = np.array([[4.5,3.2],[5.3,7.7]])\n",
    "c\n"
   ]
  },
  {
   "cell_type": "code",
   "execution_count": 9,
   "metadata": {},
   "outputs": [
    {
     "name": "stdout",
     "output_type": "stream",
     "text": [
      "b+c\n",
      "[[ 6.   5.2]\n",
      " [ 9.3 12.7]]\n",
      "b*c\n",
      "[[ 6.75  6.4 ]\n",
      " [21.2  38.5 ]]\n",
      "b.dot(c) is same as np.dot(b,c)\n",
      "[[17.35 20.2 ]\n",
      " [44.5  51.3 ]]\n"
     ]
    }
   ],
   "source": [
    "print(\"b+c\")\n",
    "print(b+c)\n",
    "print(\"b*c\")\n",
    "print(b*c)\n",
    "print(\"b.dot(c) is same as np.dot(b,c)\")\n",
    "print(b.dot(c))"
   ]
  },
  {
   "cell_type": "code",
   "execution_count": 10,
   "metadata": {},
   "outputs": [
    {
     "data": {
      "text/plain": [
       "array([0.        , 0.6981317 , 1.3962634 , 2.0943951 , 2.7925268 ,\n",
       "       3.4906585 , 4.1887902 , 4.88692191, 5.58505361, 6.28318531])"
      ]
     },
     "execution_count": 10,
     "metadata": {},
     "output_type": "execute_result"
    }
   ],
   "source": [
    "# create 10 ticks between 0 and 2pi\n",
    "e = np.linspace(0,2*np.pi,10)\n",
    "e"
   ]
  },
  {
   "cell_type": "code",
   "execution_count": 11,
   "metadata": {},
   "outputs": [
    {
     "data": {
      "text/plain": [
       "array([ 0.00000000e+00,  6.42787610e-01,  9.84807753e-01,  8.66025404e-01,\n",
       "        3.42020143e-01, -3.42020143e-01, -8.66025404e-01, -9.84807753e-01,\n",
       "       -6.42787610e-01, -2.44929360e-16])"
      ]
     },
     "execution_count": 11,
     "metadata": {},
     "output_type": "execute_result"
    }
   ],
   "source": [
    "f = np.sin(e)\n",
    "f"
   ]
  },
  {
   "cell_type": "code",
   "execution_count": 13,
   "metadata": {},
   "outputs": [
    {
     "name": "stdout",
     "output_type": "stream",
     "text": [
      "identity matrix 3x3:\n",
      "[[1. 0. 0.]\n",
      " [0. 1. 0.]\n",
      " [0. 0. 1.]]\n",
      "identity matrix 5x5:\n",
      "[[1. 0. 0. 0. 0.]\n",
      " [0. 1. 0. 0. 0.]\n",
      " [0. 0. 1. 0. 0.]\n",
      " [0. 0. 0. 1. 0.]\n",
      " [0. 0. 0. 0. 1.]]\n"
     ]
    }
   ],
   "source": [
    "g = np.eye(3)\n",
    "print(\"identity matrix 3x3:\")\n",
    "print(g)\n",
    "\n",
    "iden5 = np.identity(5)\n",
    "print('identity matrix 5x5:')\n",
    "print(iden5)"
   ]
  },
  {
   "cell_type": "code",
   "execution_count": 14,
   "metadata": {},
   "outputs": [
    {
     "name": "stdout",
     "output_type": "stream",
     "text": [
      "h:\n",
      "[[[0.61411746 0.23631496 0.5245462 ]\n",
      "  [0.14803362 0.47141887 0.91555018]\n",
      "  [0.34544369 0.01648243 0.39161724]]\n",
      "\n",
      " [[0.05913007 0.75618607 0.02716551]\n",
      "  [0.85926998 0.16767692 0.89899213]\n",
      "  [0.91251514 0.06189858 0.44136495]]\n",
      "\n",
      " [[0.58389841 0.64961501 0.99378624]\n",
      "  [0.13727408 0.62080186 0.31707234]\n",
      "  [0.96148443 0.28075344 0.04121173]]]\n",
      "h.mean():  0.46050450117682984\n"
     ]
    }
   ],
   "source": [
    "h = np.random.random((3,3,3))\n",
    "print(\"h:\")\n",
    "print(h)\n",
    "print(\"h.mean(): \", str(h.mean()))"
   ]
  },
  {
   "cell_type": "code",
   "execution_count": 15,
   "metadata": {},
   "outputs": [
    {
     "name": "stdout",
     "output_type": "stream",
     "text": [
      "0*np.nan:  nan\n",
      "np.nan == np.nan:  False\n",
      "np.inf > np.nan:  False\n",
      "np.nan - np.nan:  nan\n"
     ]
    }
   ],
   "source": [
    "print(\"0*np.nan: \", 0 * np.nan)\n",
    "print(\"np.nan == np.nan: \", np.nan == np.nan)\n",
    "print(\"np.inf > np.nan: \", np.inf > np.nan)\n",
    "print(\"np.nan - np.nan: \", np.nan - np.nan)"
   ]
  },
  {
   "cell_type": "code",
   "execution_count": 20,
   "metadata": {},
   "outputs": [
    {
     "name": "stdout",
     "output_type": "stream",
     "text": [
      "vectorize:\n"
     ]
    },
    {
     "data": {
      "text/plain": [
       "array([[101, 102, 103],\n",
       "       [104, 105, 106],\n",
       "       [107, 108, 109]])"
      ]
     },
     "execution_count": 20,
     "metadata": {},
     "output_type": "execute_result"
    }
   ],
   "source": [
    "# Create a function that adds 100 to something\n",
    "add_100 = lambda i: i + 100\n",
    "\n",
    "print('vectorize:')\n",
    "# Create a vectorized function\n",
    "vectorized_add_100 = np.vectorize(add_100)\n",
    "\n",
    "vectorized_add_100(matrix)"
   ]
  },
  {
   "cell_type": "code",
   "execution_count": 21,
   "metadata": {},
   "outputs": [
    {
     "name": "stdout",
     "output_type": "stream",
     "text": [
      "height, weight:\n",
      "[[74.0, 210.0], [71.0, 189.0], [73.0, 182.0], [75.0, 224.0], [71.0, 142.0], [75.0, 180.0], [69.0, 165.4], [85.0, 244.0]]\n",
      "[[ 74.  210. ]\n",
      " [ 71.  189. ]\n",
      " [ 73.  182. ]\n",
      " [ 75.  224. ]\n",
      " [ 71.  142. ]\n",
      " [ 75.  180. ]\n",
      " [ 69.  165.4]\n",
      " [ 85.  244. ]]\n",
      "3rd row:\n",
      "[ 73. 182.]\n",
      "2nd col:\n",
      "[210.  189.  182.  224.  142.  180.  165.4 244. ]\n",
      "converted height and weight:\n",
      "[[  1.8796     95.25432  ]\n",
      " [  1.8034     85.728888 ]\n",
      " [  1.8542     82.553744 ]\n",
      " [  1.905     101.604608 ]\n",
      " [  1.8034     64.410064 ]\n",
      " [  1.905      81.64656  ]\n",
      " [  1.7526     75.0241168]\n",
      " [  2.159     110.676448 ]]\n"
     ]
    }
   ],
   "source": [
    "height_weight = [[74.,210.],[71.,189.],[73.,182.],[75.,224.],\\\n",
    "                 [71.,142.],[75.,180.],[69.,165.4],[85.,244.]]\n",
    "print('height, weight:')\n",
    "print(height_weight)\n",
    "np_height_weight = np.array(height_weight)\n",
    "print(np_height_weight)\n",
    "print('3rd row:')\n",
    "print(np_height_weight[2,:])\n",
    "print('2nd col:')\n",
    "print(np_height_weight[:,1])\n",
    "conversion = np.array([0.0254,0.453592])\n",
    "print('converted height and weight:')\n",
    "print(conversion*np_height_weight)"
   ]
  },
  {
   "cell_type": "code",
   "execution_count": 25,
   "metadata": {},
   "outputs": [
    {
     "name": "stdout",
     "output_type": "stream",
     "text": [
      "-----50x50-----\n",
      "scipy linalg inv:\n",
      "time used: 0.0\n",
      "numpy linalg inv:\n",
      "time used: 0.0\n"
     ]
    },
    {
     "ename": "ZeroDivisionError",
     "evalue": "float division by zero",
     "output_type": "error",
     "traceback": [
      "\u001b[1;31m---------------------------------------------------------------------------\u001b[0m",
      "\u001b[1;31mZeroDivisionError\u001b[0m                         Traceback (most recent call last)",
      "\u001b[1;32m<ipython-input-25-d07f6f2ef62e>\u001b[0m in \u001b[0;36m<module>\u001b[1;34m()\u001b[0m\n\u001b[0;32m     19\u001b[0m     \u001b[0mt_numpy\u001b[0m \u001b[1;33m=\u001b[0m \u001b[0mtoc\u001b[0m\u001b[1;33m-\u001b[0m\u001b[0mtic\u001b[0m\u001b[1;33m\u001b[0m\u001b[0m\n\u001b[0;32m     20\u001b[0m     \u001b[0mprint\u001b[0m\u001b[1;33m(\u001b[0m\u001b[1;34m'time used: {}'\u001b[0m\u001b[1;33m.\u001b[0m\u001b[0mformat\u001b[0m\u001b[1;33m(\u001b[0m\u001b[0mt_numpy\u001b[0m\u001b[1;33m)\u001b[0m\u001b[1;33m)\u001b[0m\u001b[1;33m\u001b[0m\u001b[0m\n\u001b[1;32m---> 21\u001b[1;33m     \u001b[0mprint\u001b[0m\u001b[1;33m(\u001b[0m\u001b[1;34m't_scipy/t_numpy = {:.3f}'\u001b[0m\u001b[1;33m.\u001b[0m\u001b[0mformat\u001b[0m\u001b[1;33m(\u001b[0m\u001b[0mt_scipy\u001b[0m\u001b[1;33m/\u001b[0m\u001b[0mt_numpy\u001b[0m\u001b[1;33m)\u001b[0m\u001b[1;33m)\u001b[0m\u001b[1;33m\u001b[0m\u001b[0m\n\u001b[0m",
      "\u001b[1;31mZeroDivisionError\u001b[0m: float division by zero"
     ]
    }
   ],
   "source": [
    "#----------- inverse matrices\n",
    "import time\n",
    "\n",
    "dims = [50, 100, 1000]\n",
    "\n",
    "for n in dims:\n",
    "    print('-----{}x{}-----'.format(n,n))\n",
    "    mat = np.random.random((n,n))*10\n",
    "    print('scipy linalg inv:')\n",
    "    tic = time.process_time()\n",
    "    inv1 = scipy.linalg.inv(mat)\n",
    "    toc = time.process_time()\n",
    "    t_scipy = toc-tic\n",
    "    print('time used: {}'.format(t_scipy))\n",
    "    print('numpy linalg inv:')\n",
    "    tic = time.process_time()\n",
    "    inv1 = np.linalg.inv(mat)\n",
    "    toc = time.process_time()\n",
    "    t_numpy = toc-tic\n",
    "    print('time used: {}'.format(t_numpy))\n",
    "    print('t_scipy/t_numpy = {:.3f}'.format(t_scipy/t_numpy))"
   ]
  },
  {
   "cell_type": "code",
   "execution_count": null,
   "metadata": {},
   "outputs": [],
   "source": []
  }
 ],
 "metadata": {
  "kernelspec": {
   "display_name": "Python 3",
   "language": "python",
   "name": "python3"
  },
  "language_info": {
   "codemirror_mode": {
    "name": "ipython",
    "version": 3
   },
   "file_extension": ".py",
   "mimetype": "text/x-python",
   "name": "python",
   "nbconvert_exporter": "python",
   "pygments_lexer": "ipython3",
   "version": "3.6.5"
  }
 },
 "nbformat": 4,
 "nbformat_minor": 2
}
