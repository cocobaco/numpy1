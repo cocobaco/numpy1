{
 "cells": [
  {
   "cell_type": "code",
   "execution_count": 10,
   "metadata": {},
   "outputs": [],
   "source": [
    "from math import radians\n",
    "import numpy as np\n",
    "import scipy.linalg as splin"
   ]
  },
  {
   "cell_type": "code",
   "execution_count": 2,
   "metadata": {},
   "outputs": [
    {
     "name": "stdout",
     "output_type": "stream",
     "text": [
      "numpy: 1.14.2\n",
      "scipy: 1.0.1\n"
     ]
    }
   ],
   "source": [
    "print(f'numpy: {np.__version__}')\n",
    "#np.show_config()\n",
    "print(f'scipy: {scipy.__version__}')"
   ]
  },
  {
   "cell_type": "code",
   "execution_count": 3,
   "metadata": {},
   "outputs": [
    {
     "name": "stdout",
     "output_type": "stream",
     "text": [
      "row vector:\n",
      "[1 2 3]\n",
      "column vector:\n",
      "[[1]\n",
      " [2]\n",
      " [3]]\n",
      "[[1 2 3]\n",
      " [4 5 6]\n",
      " [7 8 9]]\n"
     ]
    }
   ],
   "source": [
    "# ----- numpy arrays --------------\n",
    "# Create a vector as a row\n",
    "print('row vector:')\n",
    "vector_row = np.array([1, 2, 3])\n",
    "print(vector_row)\n",
    "\n",
    "# Create a vector as a row\n",
    "print('column vector:')\n",
    "vector_column = np.array([[1], [2], [3]])\n",
    "print(vector_column)\n",
    "\n",
    "# create a matrix\n",
    "matrix = np.array([[1, 2, 3],\n",
    "                   [4, 5, 6],\n",
    "                   [7, 8, 9]])\n",
    "print(matrix)"
   ]
  },
  {
   "cell_type": "code",
   "execution_count": 4,
   "metadata": {},
   "outputs": [
    {
     "name": "stdout",
     "output_type": "stream",
     "text": [
      "distance = 50396.38215133626\n"
     ]
    }
   ],
   "source": [
    "#------- math ----------------\n",
    "r = 192500\n",
    "# travel distance from Moon over 15 rad\n",
    "dist = r*radians(15)\n",
    "print(\"distance = \" + str(dist))"
   ]
  },
  {
   "cell_type": "code",
   "execution_count": 5,
   "metadata": {},
   "outputs": [
    {
     "data": {
      "text/plain": [
       "array([0.17453293, 0.34906585, 0.52359878])"
      ]
     },
     "execution_count": 5,
     "metadata": {},
     "output_type": "execute_result"
    }
   ],
   "source": [
    "vector_row*radians(10)"
   ]
  },
  {
   "cell_type": "code",
   "execution_count": 6,
   "metadata": {},
   "outputs": [
    {
     "name": "stdout",
     "output_type": "stream",
     "text": [
      "a:\n",
      "[[ 0  1  2  3]\n",
      " [ 4  5  6  7]\n",
      " [ 8  9 10 11]]\n",
      "a.shape:  (3, 4)\n",
      "a.ndim:  2\n",
      "a.dtype.name:  int32\n",
      "a.itemsize:  4\n",
      "type(a):  <class 'numpy.ndarray'>\n",
      "tranpose(a):\n",
      "[[ 0  4  8]\n",
      " [ 1  5  9]\n",
      " [ 2  6 10]\n",
      " [ 3  7 11]]\n"
     ]
    }
   ],
   "source": [
    "# create range from 0 to 11\n",
    "a = np.arange(12).reshape(3,4)\n",
    "print(\"a:\")\n",
    "print(a)\n",
    "print(\"a.shape: \", str(a.shape))\n",
    "print(\"a.ndim: \", str(a.ndim))\n",
    "print(\"a.dtype.name: \", str(a.dtype.name))\n",
    "print(\"a.itemsize: \", str(a.itemsize))\n",
    "print(\"type(a): \", type(a))\n",
    "print('tranpose(a):')\n",
    "print(a.T)"
   ]
  },
  {
   "cell_type": "code",
   "execution_count": 11,
   "metadata": {},
   "outputs": [
    {
     "name": "stdout",
     "output_type": "stream",
     "text": [
      "b:\n",
      "[[1.5 2. ]\n",
      " [4.  5. ]]\n",
      "b.inverse (numpy):\n",
      "[[-10.   4.]\n",
      " [  8.  -3.]]\n",
      "b inverse (scipy):\n",
      "[[-10.   4.]\n",
      " [  8.  -3.]]\n",
      "det(b) (numpy):\n",
      "-0.5000000000000001\n",
      "det(b) (scipy):\n",
      "-0.5\n",
      "b**2\n",
      "[[ 2.25  4.  ]\n",
      " [16.   25.  ]]\n",
      "mean, variance, and stdev of b\n",
      "3.125 2.046875 1.4306903927824497\n"
     ]
    }
   ],
   "source": [
    "b = np.array([(1.5,2), (4,5)])\n",
    "print(\"b:\")\n",
    "print(b)\n",
    "\n",
    "# ---- matrix operations\n",
    "print('b.inverse (numpy):')\n",
    "print(np.linalg.inv(b))\n",
    "print('b inverse (scipy):')\n",
    "print(splin.inv(b))\n",
    "# Return determinant of matrix\n",
    "print('det(b) (numpy):')\n",
    "print(np.linalg.det(b))\n",
    "print('det(b) (scipy):')\n",
    "print(splin.det(b))\n",
    "\n",
    "print(\"b**2\")\n",
    "print(np.square(b))\n",
    "print('mean, variance, and stdev of b')\n",
    "print(np.mean(b), np.var(b), np.std(b))"
   ]
  },
  {
   "cell_type": "code",
   "execution_count": null,
   "metadata": {},
   "outputs": [],
   "source": [
    "c = np.array([[4.5,3.2],[5.3,7.7]])\n",
    "c\n"
   ]
  },
  {
   "cell_type": "code",
   "execution_count": null,
   "metadata": {},
   "outputs": [],
   "source": [
    "print(\"b+c\")\n",
    "print(b+c)\n",
    "print(\"b*c\")\n",
    "print(b*c)\n",
    "print(\"b.dot(c) is same as np.dot(b,c)\")\n",
    "print(b.dot(c))"
   ]
  },
  {
   "cell_type": "code",
   "execution_count": null,
   "metadata": {},
   "outputs": [],
   "source": [
    "# create 10 ticks between 0 and 2pi\n",
    "e = np.linspace(0,2*np.pi,10)\n",
    "e"
   ]
  },
  {
   "cell_type": "code",
   "execution_count": null,
   "metadata": {},
   "outputs": [],
   "source": [
    "f = np.sin(e)\n",
    "f"
   ]
  },
  {
   "cell_type": "code",
   "execution_count": null,
   "metadata": {},
   "outputs": [],
   "source": [
    "g = np.eye(3)\n",
    "print(\"identity matrix 3x3:\")\n",
    "print(g)\n",
    "\n",
    "iden5 = np.identity(5)\n",
    "print('identity matrix 5x5:')\n",
    "print(iden5)"
   ]
  },
  {
   "cell_type": "code",
   "execution_count": null,
   "metadata": {},
   "outputs": [],
   "source": [
    "h = np.random.random((3,3,3))\n",
    "print(\"h:\")\n",
    "print(h)\n",
    "print(\"h.mean(): \", str(h.mean()))"
   ]
  },
  {
   "cell_type": "code",
   "execution_count": null,
   "metadata": {},
   "outputs": [],
   "source": [
    "print(\"0*np.nan: \", 0 * np.nan)\n",
    "print(\"np.nan == np.nan: \", np.nan == np.nan)\n",
    "print(\"np.inf > np.nan: \", np.inf > np.nan)\n",
    "print(\"np.nan - np.nan: \", np.nan - np.nan)"
   ]
  },
  {
   "cell_type": "code",
   "execution_count": null,
   "metadata": {},
   "outputs": [],
   "source": [
    "# Create a function that adds 100 to something\n",
    "add_100 = lambda i: i + 100\n",
    "\n",
    "print('vectorize:')\n",
    "# Create a vectorized function\n",
    "vectorized_add_100 = np.vectorize(add_100)\n",
    "\n",
    "vectorized_add_100(matrix)"
   ]
  },
  {
   "cell_type": "code",
   "execution_count": null,
   "metadata": {},
   "outputs": [],
   "source": [
    "height_weight = [[74.,210.],[71.,189.],[73.,182.],[75.,224.],\\\n",
    "                 [71.,142.],[75.,180.],[69.,165.4],[85.,244.]]\n",
    "print('height, weight:')\n",
    "print(height_weight)\n",
    "np_height_weight = np.array(height_weight)\n",
    "print(np_height_weight)\n",
    "print('3rd row:')\n",
    "print(np_height_weight[2,:])\n",
    "print('2nd col:')\n",
    "print(np_height_weight[:,1])\n",
    "conversion = np.array([0.0254,0.453592])\n",
    "print('converted height and weight:')\n",
    "print(conversion*np_height_weight)"
   ]
  },
  {
   "cell_type": "code",
   "execution_count": 12,
   "metadata": {},
   "outputs": [
    {
     "name": "stdout",
     "output_type": "stream",
     "text": [
      "-----50x50-----\n",
      "scipy linalg inv:\n",
      "time used: 0.0\n",
      "numpy linalg inv:\n",
      "time used: 0.0\n",
      "-----100x100-----\n",
      "scipy linalg inv:\n",
      "time used: 0.015625\n",
      "numpy linalg inv:\n",
      "time used: 0.0\n",
      "-----1000x1000-----\n",
      "scipy linalg inv:\n",
      "time used: 0.15625\n",
      "numpy linalg inv:\n",
      "time used: 0.328125\n"
     ]
    }
   ],
   "source": [
    "#----------- inverse matrices\n",
    "import time\n",
    "\n",
    "dims = [50, 100, 1000]\n",
    "\n",
    "for n in dims:\n",
    "    print('-----{}x{}-----'.format(n,n))\n",
    "    mat = np.random.random((n,n))*10\n",
    "    print('scipy linalg inv:')\n",
    "    tic = time.process_time()\n",
    "    inv1 = splin.inv(mat)\n",
    "    toc = time.process_time()\n",
    "    t_scipy = toc-tic\n",
    "    print('time used: {}'.format(t_scipy))\n",
    "    print('numpy linalg inv:')\n",
    "    tic = time.process_time()\n",
    "    inv1 = np.linalg.inv(mat)\n",
    "    toc = time.process_time()\n",
    "    t_numpy = toc-tic\n",
    "    print('time used: {}'.format(t_numpy))\n",
    "    #print('t_scipy/t_numpy = {:.3f}'.format(t_scipy/t_numpy))"
   ]
  },
  {
   "cell_type": "code",
   "execution_count": null,
   "metadata": {},
   "outputs": [],
   "source": []
  }
 ],
 "metadata": {
  "kernelspec": {
   "display_name": "Python 3",
   "language": "python",
   "name": "python3"
  },
  "language_info": {
   "codemirror_mode": {
    "name": "ipython",
    "version": 3
   },
   "file_extension": ".py",
   "mimetype": "text/x-python",
   "name": "python",
   "nbconvert_exporter": "python",
   "pygments_lexer": "ipython3",
   "version": "3.6.5"
  }
 },
 "nbformat": 4,
 "nbformat_minor": 2
}
